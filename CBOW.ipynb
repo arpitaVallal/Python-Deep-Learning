{
 "cells": [
  {
   "cell_type": "code",
   "execution_count": 153,
   "id": "d385d713-98ad-42be-900e-8074f55b0d60",
   "metadata": {},
   "outputs": [],
   "source": [
    "#CBOW\n",
    "from tensorflow.keras.preprocessing.text import Tokenizer\n",
    "from tensorflow.keras.preprocessing.sequence import pad_sequences"
   ]
  },
  {
   "cell_type": "code",
   "execution_count": 154,
   "id": "39e056df-eba4-4d83-b867-f343060dab0d",
   "metadata": {},
   "outputs": [
    {
     "data": {
      "text/plain": [
       "'C:\\\\Users\\\\ARPITA'"
      ]
     },
     "execution_count": 154,
     "metadata": {},
     "output_type": "execute_result"
    }
   ],
   "source": [
    "pwd"
   ]
  },
  {
   "cell_type": "code",
   "execution_count": 155,
   "id": "11094541-9c6b-4a9f-95de-23a890a88f47",
   "metadata": {},
   "outputs": [],
   "source": [
    "lines = ['It was a nice rainy day', 'The things are so beautiful in his point.', 'When your focus is clear, you won.', 'Many many happy returns of the day.']"
   ]
  },
  {
   "cell_type": "code",
   "execution_count": 156,
   "id": "c60d228b-8c95-4b31-aced-b7995a4053db",
   "metadata": {},
   "outputs": [],
   "source": [
    "tokenizer = Tokenizer()\n",
    "tokenizer.fit_on_texts(lines)"
   ]
  },
  {
   "cell_type": "code",
   "execution_count": 157,
   "id": "3ef0141a-cdc2-432a-80b8-337cb14c9deb",
   "metadata": {},
   "outputs": [
    {
     "data": {
      "text/plain": [
       "defaultdict(int,\n",
       "            {'day': 2,\n",
       "             'was': 1,\n",
       "             'it': 1,\n",
       "             'rainy': 1,\n",
       "             'a': 1,\n",
       "             'nice': 1,\n",
       "             'things': 1,\n",
       "             'the': 2,\n",
       "             'are': 1,\n",
       "             'point': 1,\n",
       "             'so': 1,\n",
       "             'beautiful': 1,\n",
       "             'in': 1,\n",
       "             'his': 1,\n",
       "             'is': 1,\n",
       "             'your': 1,\n",
       "             'you': 1,\n",
       "             'won': 1,\n",
       "             'clear': 1,\n",
       "             'when': 1,\n",
       "             'focus': 1,\n",
       "             'of': 1,\n",
       "             'many': 1,\n",
       "             'returns': 1,\n",
       "             'happy': 1})"
      ]
     },
     "execution_count": 157,
     "metadata": {},
     "output_type": "execute_result"
    }
   ],
   "source": [
    "tokenizer.word_docs"
   ]
  },
  {
   "cell_type": "code",
   "execution_count": 158,
   "id": "82d28181-d2a0-46bb-830f-5b157bdc64c6",
   "metadata": {},
   "outputs": [
    {
     "data": {
      "text/plain": [
       "{'day': 1,\n",
       " 'the': 2,\n",
       " 'many': 3,\n",
       " 'it': 4,\n",
       " 'was': 5,\n",
       " 'a': 6,\n",
       " 'nice': 7,\n",
       " 'rainy': 8,\n",
       " 'things': 9,\n",
       " 'are': 10,\n",
       " 'so': 11,\n",
       " 'beautiful': 12,\n",
       " 'in': 13,\n",
       " 'his': 14,\n",
       " 'point': 15,\n",
       " 'when': 16,\n",
       " 'your': 17,\n",
       " 'focus': 18,\n",
       " 'is': 19,\n",
       " 'clear': 20,\n",
       " 'you': 21,\n",
       " 'won': 22,\n",
       " 'happy': 23,\n",
       " 'returns': 24,\n",
       " 'of': 25}"
      ]
     },
     "execution_count": 158,
     "metadata": {},
     "output_type": "execute_result"
    }
   ],
   "source": [
    "tokenizer.word_index"
   ]
  },
  {
   "cell_type": "code",
   "execution_count": 159,
   "id": "67aacb6c-d4b2-49bd-b008-6b4b4f342c75",
   "metadata": {},
   "outputs": [
    {
     "data": {
      "text/plain": [
       "array([[0., 1., 0., 0., 1., 1., 1., 1., 1., 0., 0., 0., 0., 0., 0., 0.,\n",
       "        0., 0., 0., 0., 0., 0., 0., 0., 0., 0.],\n",
       "       [0., 0., 1., 0., 0., 0., 0., 0., 0., 1., 1., 1., 1., 1., 1., 1.,\n",
       "        0., 0., 0., 0., 0., 0., 0., 0., 0., 0.],\n",
       "       [0., 0., 0., 0., 0., 0., 0., 0., 0., 0., 0., 0., 0., 0., 0., 0.,\n",
       "        1., 1., 1., 1., 1., 1., 1., 0., 0., 0.],\n",
       "       [0., 1., 1., 1., 0., 0., 0., 0., 0., 0., 0., 0., 0., 0., 0., 0.,\n",
       "        0., 0., 0., 0., 0., 0., 0., 1., 1., 1.]])"
      ]
     },
     "execution_count": 159,
     "metadata": {},
     "output_type": "execute_result"
    }
   ],
   "source": [
    "mat = tokenizer.texts_to_matrix(lines)\n",
    "mat"
   ]
  },
  {
   "cell_type": "code",
   "execution_count": 160,
   "id": "1833e815-37e3-4bd5-9aa9-f07c09b5b8e4",
   "metadata": {},
   "outputs": [
    {
     "data": {
      "text/plain": [
       "[[4, 5, 6, 7, 8, 1],\n",
       " [2, 9, 10, 11, 12, 13, 14, 15],\n",
       " [16, 17, 18, 19, 20, 21, 22],\n",
       " [3, 3, 23, 24, 25, 2, 1]]"
      ]
     },
     "execution_count": 160,
     "metadata": {},
     "output_type": "execute_result"
    }
   ],
   "source": [
    "seq = tokenizer.texts_to_sequences(lines)\n",
    "seq"
   ]
  },
  {
   "cell_type": "code",
   "execution_count": 161,
   "id": "ef365fdd-7d8b-4d49-9c7a-ef123854ba98",
   "metadata": {},
   "outputs": [
    {
     "data": {
      "text/plain": [
       "array([[ 0,  0,  0,  0,  4,  5,  6,  7,  8,  1],\n",
       "       [ 0,  0,  2,  9, 10, 11, 12, 13, 14, 15],\n",
       "       [ 0,  0,  0, 16, 17, 18, 19, 20, 21, 22],\n",
       "       [ 0,  0,  0,  3,  3, 23, 24, 25,  2,  1]])"
      ]
     },
     "execution_count": 161,
     "metadata": {},
     "output_type": "execute_result"
    }
   ],
   "source": [
    "padded = pad_sequences(seq, maxlen=10, padding='pre')\n",
    "padded"
   ]
  },
  {
   "cell_type": "code",
   "execution_count": 162,
   "id": "6efa5b2c-9ed2-4688-8504-5f160eaa65e5",
   "metadata": {},
   "outputs": [],
   "source": [
    "import pandas as pd\n",
    "from tensorflow.keras.models import Sequential\n",
    "from tensorflow.keras.layers import Dense, Embedding, LSTM\n",
    "from sklearn.model_selection import train_test_split\n",
    "import re\n",
    "import numpy as np\n"
   ]
  },
  {
   "cell_type": "code",
   "execution_count": 163,
   "id": "c84b7837-e2ab-4bc5-88fa-1eceab1225de",
   "metadata": {},
   "outputs": [],
   "source": [
    "data = pd.read_csv(r\"C:\\Users\\ARPITA\\Downloads\\twitter_sentiments.csv\", names=['id', 'loc', 'label', 'text'])"
   ]
  },
  {
   "cell_type": "code",
   "execution_count": 164,
   "id": "1a7a53c8-5a65-4882-8549-1b7504d6b94f",
   "metadata": {},
   "outputs": [
    {
     "data": {
      "text/html": [
       "<div>\n",
       "<style scoped>\n",
       "    .dataframe tbody tr th:only-of-type {\n",
       "        vertical-align: middle;\n",
       "    }\n",
       "\n",
       "    .dataframe tbody tr th {\n",
       "        vertical-align: top;\n",
       "    }\n",
       "\n",
       "    .dataframe thead th {\n",
       "        text-align: right;\n",
       "    }\n",
       "</style>\n",
       "<table border=\"1\" class=\"dataframe\">\n",
       "  <thead>\n",
       "    <tr style=\"text-align: right;\">\n",
       "      <th></th>\n",
       "      <th>id</th>\n",
       "      <th>loc</th>\n",
       "      <th>label</th>\n",
       "      <th>text</th>\n",
       "    </tr>\n",
       "  </thead>\n",
       "  <tbody>\n",
       "    <tr>\n",
       "      <th>0</th>\n",
       "      <td>2401</td>\n",
       "      <td>Borderlands</td>\n",
       "      <td>Positive</td>\n",
       "      <td>im getting on borderlands and i will murder yo...</td>\n",
       "    </tr>\n",
       "    <tr>\n",
       "      <th>1</th>\n",
       "      <td>2401</td>\n",
       "      <td>Borderlands</td>\n",
       "      <td>Positive</td>\n",
       "      <td>I am coming to the borders and I will kill you...</td>\n",
       "    </tr>\n",
       "    <tr>\n",
       "      <th>2</th>\n",
       "      <td>2401</td>\n",
       "      <td>Borderlands</td>\n",
       "      <td>Positive</td>\n",
       "      <td>im getting on borderlands and i will kill you ...</td>\n",
       "    </tr>\n",
       "    <tr>\n",
       "      <th>3</th>\n",
       "      <td>2401</td>\n",
       "      <td>Borderlands</td>\n",
       "      <td>Positive</td>\n",
       "      <td>im coming on borderlands and i will murder you...</td>\n",
       "    </tr>\n",
       "    <tr>\n",
       "      <th>4</th>\n",
       "      <td>2401</td>\n",
       "      <td>Borderlands</td>\n",
       "      <td>Positive</td>\n",
       "      <td>im getting on borderlands 2 and i will murder ...</td>\n",
       "    </tr>\n",
       "    <tr>\n",
       "      <th>...</th>\n",
       "      <td>...</td>\n",
       "      <td>...</td>\n",
       "      <td>...</td>\n",
       "      <td>...</td>\n",
       "    </tr>\n",
       "    <tr>\n",
       "      <th>74677</th>\n",
       "      <td>9200</td>\n",
       "      <td>Nvidia</td>\n",
       "      <td>Positive</td>\n",
       "      <td>Just realized that the Windows partition of my...</td>\n",
       "    </tr>\n",
       "    <tr>\n",
       "      <th>74678</th>\n",
       "      <td>9200</td>\n",
       "      <td>Nvidia</td>\n",
       "      <td>Positive</td>\n",
       "      <td>Just realized that my Mac window partition is ...</td>\n",
       "    </tr>\n",
       "    <tr>\n",
       "      <th>74679</th>\n",
       "      <td>9200</td>\n",
       "      <td>Nvidia</td>\n",
       "      <td>Positive</td>\n",
       "      <td>Just realized the windows partition of my Mac ...</td>\n",
       "    </tr>\n",
       "    <tr>\n",
       "      <th>74680</th>\n",
       "      <td>9200</td>\n",
       "      <td>Nvidia</td>\n",
       "      <td>Positive</td>\n",
       "      <td>Just realized between the windows partition of...</td>\n",
       "    </tr>\n",
       "    <tr>\n",
       "      <th>74681</th>\n",
       "      <td>9200</td>\n",
       "      <td>Nvidia</td>\n",
       "      <td>Positive</td>\n",
       "      <td>Just like the windows partition of my Mac is l...</td>\n",
       "    </tr>\n",
       "  </tbody>\n",
       "</table>\n",
       "<p>74682 rows × 4 columns</p>\n",
       "</div>"
      ],
      "text/plain": [
       "         id          loc     label  \\\n",
       "0      2401  Borderlands  Positive   \n",
       "1      2401  Borderlands  Positive   \n",
       "2      2401  Borderlands  Positive   \n",
       "3      2401  Borderlands  Positive   \n",
       "4      2401  Borderlands  Positive   \n",
       "...     ...          ...       ...   \n",
       "74677  9200       Nvidia  Positive   \n",
       "74678  9200       Nvidia  Positive   \n",
       "74679  9200       Nvidia  Positive   \n",
       "74680  9200       Nvidia  Positive   \n",
       "74681  9200       Nvidia  Positive   \n",
       "\n",
       "                                                    text  \n",
       "0      im getting on borderlands and i will murder yo...  \n",
       "1      I am coming to the borders and I will kill you...  \n",
       "2      im getting on borderlands and i will kill you ...  \n",
       "3      im coming on borderlands and i will murder you...  \n",
       "4      im getting on borderlands 2 and i will murder ...  \n",
       "...                                                  ...  \n",
       "74677  Just realized that the Windows partition of my...  \n",
       "74678  Just realized that my Mac window partition is ...  \n",
       "74679  Just realized the windows partition of my Mac ...  \n",
       "74680  Just realized between the windows partition of...  \n",
       "74681  Just like the windows partition of my Mac is l...  \n",
       "\n",
       "[74682 rows x 4 columns]"
      ]
     },
     "execution_count": 164,
     "metadata": {},
     "output_type": "execute_result"
    }
   ],
   "source": [
    "data"
   ]
  },
  {
   "cell_type": "code",
   "execution_count": 165,
   "id": "5c0ead93-5ca2-443b-9ca9-eacdee9826ee",
   "metadata": {},
   "outputs": [
    {
     "data": {
      "text/plain": [
       "(74682, 4)"
      ]
     },
     "execution_count": 165,
     "metadata": {},
     "output_type": "execute_result"
    }
   ],
   "source": [
    "data.shape"
   ]
  },
  {
   "cell_type": "code",
   "execution_count": 166,
   "id": "7672849a-60fc-4e97-9233-bf0249a8c74a",
   "metadata": {},
   "outputs": [
    {
     "data": {
      "text/plain": [
       "id        int64\n",
       "loc      object\n",
       "label    object\n",
       "text     object\n",
       "dtype: object"
      ]
     },
     "execution_count": 166,
     "metadata": {},
     "output_type": "execute_result"
    }
   ],
   "source": [
    "data.dtypes"
   ]
  },
  {
   "cell_type": "code",
   "execution_count": 167,
   "id": "0e531050-b954-4d8a-bf74-ceeca489b3e6",
   "metadata": {},
   "outputs": [],
   "source": [
    "data['text']=data['text'].astype(str)"
   ]
  },
  {
   "cell_type": "code",
   "execution_count": 168,
   "id": "bf7c8afc-915d-40b7-b8ac-96d20b362e37",
   "metadata": {},
   "outputs": [],
   "source": [
    "def clean_text(text):\n",
    "    text = text.lower()\n",
    "    text = re.sub(r'[^a-zA-Z]+', ' ', text)\n",
    "    return text"
   ]
  },
  {
   "cell_type": "code",
   "execution_count": 169,
   "id": "e8dd1550-9d2a-4727-8e8f-a344d2d407c9",
   "metadata": {},
   "outputs": [],
   "source": [
    "data['text'] = data['text'].apply(clean_text)"
   ]
  },
  {
   "cell_type": "code",
   "execution_count": 170,
   "id": "0d0799b5-dbd9-4e32-a0e0-2a32f35c9023",
   "metadata": {},
   "outputs": [
    {
     "data": {
      "text/html": [
       "<div>\n",
       "<style scoped>\n",
       "    .dataframe tbody tr th:only-of-type {\n",
       "        vertical-align: middle;\n",
       "    }\n",
       "\n",
       "    .dataframe tbody tr th {\n",
       "        vertical-align: top;\n",
       "    }\n",
       "\n",
       "    .dataframe thead th {\n",
       "        text-align: right;\n",
       "    }\n",
       "</style>\n",
       "<table border=\"1\" class=\"dataframe\">\n",
       "  <thead>\n",
       "    <tr style=\"text-align: right;\">\n",
       "      <th></th>\n",
       "      <th>id</th>\n",
       "      <th>loc</th>\n",
       "      <th>label</th>\n",
       "      <th>text</th>\n",
       "    </tr>\n",
       "  </thead>\n",
       "  <tbody>\n",
       "    <tr>\n",
       "      <th>0</th>\n",
       "      <td>2401</td>\n",
       "      <td>Borderlands</td>\n",
       "      <td>Positive</td>\n",
       "      <td>im getting on borderlands and i will murder yo...</td>\n",
       "    </tr>\n",
       "    <tr>\n",
       "      <th>1</th>\n",
       "      <td>2401</td>\n",
       "      <td>Borderlands</td>\n",
       "      <td>Positive</td>\n",
       "      <td>i am coming to the borders and i will kill you...</td>\n",
       "    </tr>\n",
       "    <tr>\n",
       "      <th>2</th>\n",
       "      <td>2401</td>\n",
       "      <td>Borderlands</td>\n",
       "      <td>Positive</td>\n",
       "      <td>im getting on borderlands and i will kill you ...</td>\n",
       "    </tr>\n",
       "    <tr>\n",
       "      <th>3</th>\n",
       "      <td>2401</td>\n",
       "      <td>Borderlands</td>\n",
       "      <td>Positive</td>\n",
       "      <td>im coming on borderlands and i will murder you...</td>\n",
       "    </tr>\n",
       "    <tr>\n",
       "      <th>4</th>\n",
       "      <td>2401</td>\n",
       "      <td>Borderlands</td>\n",
       "      <td>Positive</td>\n",
       "      <td>im getting on borderlands and i will murder yo...</td>\n",
       "    </tr>\n",
       "    <tr>\n",
       "      <th>...</th>\n",
       "      <td>...</td>\n",
       "      <td>...</td>\n",
       "      <td>...</td>\n",
       "      <td>...</td>\n",
       "    </tr>\n",
       "    <tr>\n",
       "      <th>74677</th>\n",
       "      <td>9200</td>\n",
       "      <td>Nvidia</td>\n",
       "      <td>Positive</td>\n",
       "      <td>just realized that the windows partition of my...</td>\n",
       "    </tr>\n",
       "    <tr>\n",
       "      <th>74678</th>\n",
       "      <td>9200</td>\n",
       "      <td>Nvidia</td>\n",
       "      <td>Positive</td>\n",
       "      <td>just realized that my mac window partition is ...</td>\n",
       "    </tr>\n",
       "    <tr>\n",
       "      <th>74679</th>\n",
       "      <td>9200</td>\n",
       "      <td>Nvidia</td>\n",
       "      <td>Positive</td>\n",
       "      <td>just realized the windows partition of my mac ...</td>\n",
       "    </tr>\n",
       "    <tr>\n",
       "      <th>74680</th>\n",
       "      <td>9200</td>\n",
       "      <td>Nvidia</td>\n",
       "      <td>Positive</td>\n",
       "      <td>just realized between the windows partition of...</td>\n",
       "    </tr>\n",
       "    <tr>\n",
       "      <th>74681</th>\n",
       "      <td>9200</td>\n",
       "      <td>Nvidia</td>\n",
       "      <td>Positive</td>\n",
       "      <td>just like the windows partition of my mac is l...</td>\n",
       "    </tr>\n",
       "  </tbody>\n",
       "</table>\n",
       "<p>74682 rows × 4 columns</p>\n",
       "</div>"
      ],
      "text/plain": [
       "         id          loc     label  \\\n",
       "0      2401  Borderlands  Positive   \n",
       "1      2401  Borderlands  Positive   \n",
       "2      2401  Borderlands  Positive   \n",
       "3      2401  Borderlands  Positive   \n",
       "4      2401  Borderlands  Positive   \n",
       "...     ...          ...       ...   \n",
       "74677  9200       Nvidia  Positive   \n",
       "74678  9200       Nvidia  Positive   \n",
       "74679  9200       Nvidia  Positive   \n",
       "74680  9200       Nvidia  Positive   \n",
       "74681  9200       Nvidia  Positive   \n",
       "\n",
       "                                                    text  \n",
       "0      im getting on borderlands and i will murder yo...  \n",
       "1      i am coming to the borders and i will kill you...  \n",
       "2      im getting on borderlands and i will kill you ...  \n",
       "3      im coming on borderlands and i will murder you...  \n",
       "4      im getting on borderlands and i will murder yo...  \n",
       "...                                                  ...  \n",
       "74677  just realized that the windows partition of my...  \n",
       "74678  just realized that my mac window partition is ...  \n",
       "74679  just realized the windows partition of my mac ...  \n",
       "74680  just realized between the windows partition of...  \n",
       "74681  just like the windows partition of my mac is l...  \n",
       "\n",
       "[74682 rows x 4 columns]"
      ]
     },
     "execution_count": 170,
     "metadata": {},
     "output_type": "execute_result"
    }
   ],
   "source": [
    "data"
   ]
  },
  {
   "cell_type": "code",
   "execution_count": 171,
   "id": "a9f2013a-1ea0-4313-bc4e-15760474c53b",
   "metadata": {},
   "outputs": [],
   "source": [
    "#feature and target preparation \n",
    "comments = data['text'].tolist()\n",
    "target = data['label'].values"
   ]
  },
  {
   "cell_type": "code",
   "execution_count": 172,
   "id": "0b7b25ba-099a-483e-a43c-ab3ea9f60754",
   "metadata": {},
   "outputs": [
    {
     "data": {
      "text/plain": [
       "array(['Irrelevant', 'Negative', 'Neutral', 'Positive'], dtype=object)"
      ]
     },
     "execution_count": 172,
     "metadata": {},
     "output_type": "execute_result"
    }
   ],
   "source": [
    "np.unique(target)"
   ]
  },
  {
   "cell_type": "code",
   "execution_count": 173,
   "id": "f762cbac-0664-4829-a32e-8314527b146d",
   "metadata": {},
   "outputs": [],
   "source": [
    "#tokenization and padding\n",
    "Tokenizer = Tokenizer(num_words=5000)\n",
    "Tokenizer.fit_on_texts(comments)\n",
    "sequences = Tokenizer.texts_to_sequences(comments)\n",
    "padded_sequences = pad_sequences(sequences, maxlen=200)"
   ]
  },
  {
   "cell_type": "code",
   "execution_count": 174,
   "id": "f62a0467-024d-4c61-a249-fd52692c62de",
   "metadata": {},
   "outputs": [
    {
     "data": {
      "text/plain": [
       "(74682, 200)"
      ]
     },
     "execution_count": 174,
     "metadata": {},
     "output_type": "execute_result"
    }
   ],
   "source": [
    "padded_sequences.shape"
   ]
  },
  {
   "cell_type": "code",
   "execution_count": 175,
   "id": "e271aac6-65e0-4b70-b862-ea59eb7d4c7e",
   "metadata": {},
   "outputs": [
    {
     "data": {
      "text/plain": [
       "array([[   0,    0,    0, ..., 1695,   12,   26],\n",
       "       [   0,    0,    0, ...,  424,   12,   26],\n",
       "       [   0,    0,    0, ...,  424,   12,   26],\n",
       "       ...,\n",
       "       [   0,    0,    0, ...,  302,   15, 2055],\n",
       "       [   0,    0,    0, ...,  302,   15, 2055],\n",
       "       [   0,    0,    0, ...,  302,   15, 2055]])"
      ]
     },
     "execution_count": 175,
     "metadata": {},
     "output_type": "execute_result"
    }
   ],
   "source": [
    "padded_sequences"
   ]
  },
  {
   "cell_type": "code",
   "execution_count": 176,
   "id": "c20d9953-dd84-49bd-8015-9f0435ff00f5",
   "metadata": {},
   "outputs": [],
   "source": [
    "from sklearn.preprocessing import LabelEncoder\n",
    "le = LabelEncoder()\n",
    "y = le.fit_transform(target)\n",
    "\n",
    "from keras.utils import to_categorical\n",
    "y_new = to_categorical(y)"
   ]
  },
  {
   "cell_type": "code",
   "execution_count": 177,
   "id": "7f2ab741-967e-404c-8112-a1a5bfa0a960",
   "metadata": {},
   "outputs": [
    {
     "data": {
      "text/plain": [
       "array([[0., 0., 0., 1.],\n",
       "       [0., 0., 0., 1.],\n",
       "       [0., 0., 0., 1.],\n",
       "       ...,\n",
       "       [0., 0., 0., 1.],\n",
       "       [0., 0., 0., 1.],\n",
       "       [0., 0., 0., 1.]])"
      ]
     },
     "execution_count": 177,
     "metadata": {},
     "output_type": "execute_result"
    }
   ],
   "source": [
    "y_new"
   ]
  },
  {
   "cell_type": "code",
   "execution_count": 178,
   "id": "aa065a31-57d7-4da4-a04f-ce1399af54c7",
   "metadata": {},
   "outputs": [
    {
     "data": {
      "text/plain": [
       "(74682, 4)"
      ]
     },
     "execution_count": 178,
     "metadata": {},
     "output_type": "execute_result"
    }
   ],
   "source": [
    "y_new.shape"
   ]
  },
  {
   "cell_type": "code",
   "execution_count": 179,
   "id": "76e3554d-d744-4b45-a3c2-d24b59701518",
   "metadata": {},
   "outputs": [
    {
     "data": {
      "text/plain": [
       "Counter({'Negative': 22542,\n",
       "         'Positive': 20832,\n",
       "         'Neutral': 18318,\n",
       "         'Irrelevant': 12990})"
      ]
     },
     "execution_count": 179,
     "metadata": {},
     "output_type": "execute_result"
    }
   ],
   "source": [
    "from collections import Counter\n",
    "Counter(target)"
   ]
  },
  {
   "cell_type": "code",
   "execution_count": 180,
   "id": "8b00e918-6ba5-4268-95b4-9bbd46662726",
   "metadata": {},
   "outputs": [],
   "source": [
    "#train test split \n",
    "x_train, x_test, y_train, y_test = train_test_split(padded_sequences, y_new, test_size = 0.2)"
   ]
  },
  {
   "cell_type": "code",
   "execution_count": 181,
   "id": "606e235d-ed26-4cf9-9ce0-b4ca5af73339",
   "metadata": {},
   "outputs": [
    {
     "data": {
      "text/plain": [
       "(59745, 200)"
      ]
     },
     "execution_count": 181,
     "metadata": {},
     "output_type": "execute_result"
    }
   ],
   "source": [
    "x_train.shape"
   ]
  },
  {
   "cell_type": "code",
   "execution_count": 182,
   "id": "f11389e0-0783-41d5-870c-f57f8c2ad6bc",
   "metadata": {},
   "outputs": [
    {
     "data": {
      "text/plain": [
       "(14937, 200)"
      ]
     },
     "execution_count": 182,
     "metadata": {},
     "output_type": "execute_result"
    }
   ],
   "source": [
    "x_test.shape"
   ]
  },
  {
   "cell_type": "code",
   "execution_count": 186,
   "id": "3eb899ec-d5cf-4d5e-96fe-7beb103f870e",
   "metadata": {},
   "outputs": [],
   "source": [
    "#model definition\n",
    "model = Sequential()\n",
    "model.add(Embedding(5000, 100, input_length =200))\n",
    "model.add(LSTM(64))\n",
    "model.add(Dense(4, activation='sigmoid'))          "
   ]
  },
  {
   "cell_type": "code",
   "execution_count": 187,
   "id": "6f10e864-829d-47ff-944e-8783c67bd32b",
   "metadata": {},
   "outputs": [],
   "source": [
    "#compile the model\n",
    "model.compile(optimizer = 'adam', loss = 'categorical_crossentropy', metrics = ['accuracy'])"
   ]
  },
  {
   "cell_type": "code",
   "execution_count": 188,
   "id": "b611561f-3195-4953-926c-2ec4d03b965f",
   "metadata": {},
   "outputs": [
    {
     "name": "stdout",
     "output_type": "stream",
     "text": [
      "Epoch 1/5\n",
      "\u001b[1m1868/1868\u001b[0m \u001b[32m━━━━━━━━━━━━━━━━━━━━\u001b[0m\u001b[37m\u001b[0m \u001b[1m101s\u001b[0m 53ms/step - accuracy: 0.5316 - loss: 1.0822 - val_accuracy: 0.6864 - val_loss: 0.8014\n",
      "Epoch 2/5\n",
      "\u001b[1m1868/1868\u001b[0m \u001b[32m━━━━━━━━━━━━━━━━━━━━\u001b[0m\u001b[37m\u001b[0m \u001b[1m98s\u001b[0m 52ms/step - accuracy: 0.7390 - loss: 0.6683 - val_accuracy: 0.7445 - val_loss: 0.6636\n",
      "Epoch 3/5\n",
      "\u001b[1m1868/1868\u001b[0m \u001b[32m━━━━━━━━━━━━━━━━━━━━\u001b[0m\u001b[37m\u001b[0m \u001b[1m97s\u001b[0m 52ms/step - accuracy: 0.8126 - loss: 0.4875 - val_accuracy: 0.7830 - val_loss: 0.5822\n",
      "Epoch 4/5\n",
      "\u001b[1m1868/1868\u001b[0m \u001b[32m━━━━━━━━━━━━━━━━━━━━\u001b[0m\u001b[37m\u001b[0m \u001b[1m97s\u001b[0m 52ms/step - accuracy: 0.8545 - loss: 0.3812 - val_accuracy: 0.8040 - val_loss: 0.5478\n",
      "Epoch 5/5\n",
      "\u001b[1m1868/1868\u001b[0m \u001b[32m━━━━━━━━━━━━━━━━━━━━\u001b[0m\u001b[37m\u001b[0m \u001b[1m98s\u001b[0m 52ms/step - accuracy: 0.8840 - loss: 0.3064 - val_accuracy: 0.8200 - val_loss: 0.5292\n"
     ]
    },
    {
     "data": {
      "text/plain": [
       "<keras.src.callbacks.history.History at 0x227825659a0>"
      ]
     },
     "execution_count": 188,
     "metadata": {},
     "output_type": "execute_result"
    }
   ],
   "source": [
    "#train the model\n",
    "model.fit(x_train, y_train, validation_data=(x_test, y_test), epochs=5, batch_size = 32)"
   ]
  },
  {
   "cell_type": "code",
   "execution_count": 192,
   "id": "fa138e6d-8e36-4141-8fc8-a63befa1e851",
   "metadata": {},
   "outputs": [
    {
     "name": "stdout",
     "output_type": "stream",
     "text": [
      "\u001b[1m1/1\u001b[0m \u001b[32m━━━━━━━━━━━━━━━━━━━━\u001b[0m\u001b[37m\u001b[0m \u001b[1m0s\u001b[0m 31ms/step\n"
     ]
    },
    {
     "data": {
      "text/plain": [
       "array(['Neutral'], dtype=object)"
      ]
     },
     "execution_count": 192,
     "metadata": {},
     "output_type": "execute_result"
    }
   ],
   "source": [
    "#Prediction on unseen comment\n",
    "new_comment = 'I hate him'\n",
    "new_sequence = tokenizer.texts_to_sequences([clean_text(new_comment)])\n",
    "new_padded_sequences = pad_sequences(new_sequence, maxlen = 200)\n",
    "prediction = model.predict(new_padded_sequences)[0]\n",
    "le.inverse_transform([np.argmax(prediction)])"
   ]
  },
  {
   "cell_type": "code",
   "execution_count": null,
   "id": "50f05036-b45e-4d4d-8608-03d2359c843d",
   "metadata": {},
   "outputs": [],
   "source": []
  }
 ],
 "metadata": {
  "kernelspec": {
   "display_name": "Python 3 (ipykernel)",
   "language": "python",
   "name": "python3"
  },
  "language_info": {
   "codemirror_mode": {
    "name": "ipython",
    "version": 3
   },
   "file_extension": ".py",
   "mimetype": "text/x-python",
   "name": "python",
   "nbconvert_exporter": "python",
   "pygments_lexer": "ipython3",
   "version": "3.12.4"
  }
 },
 "nbformat": 4,
 "nbformat_minor": 5
}
